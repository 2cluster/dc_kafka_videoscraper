{
 "cells": [
  {
   "cell_type": "markdown",
   "metadata": {},
   "source": [
    "!python3 -m pip install ffmpeg"
   ]
  },
  {
   "cell_type": "markdown",
   "metadata": {},
   "source": [
    "!python3 -m pip install wget"
   ]
  },
  {
   "cell_type": "markdown",
   "metadata": {},
   "source": [
    "!python3 -m pip install confluent-kafka[avro]"
   ]
  },
  {
   "cell_type": "code",
   "execution_count": 1,
   "metadata": {},
   "outputs": [],
   "source": [
    "from bs4 import BeautifulSoup\n",
    "import requests\n",
    "import re\n",
    "from time import sleep\n",
    "import json\n",
    "from confluent_kafka import avro\n",
    "from confluent_kafka.avro import AvroProducer"
   ]
  },
  {
   "cell_type": "code",
   "execution_count": 2,
   "metadata": {},
   "outputs": [],
   "source": [
    "url = 'https://www.nu.nl/279919/video/robbie-williams-wordt-warm-onthaald-door-kinderen-na-quarantaine.html?redirect=1'"
   ]
  },
  {
   "cell_type": "code",
   "execution_count": 3,
   "metadata": {},
   "outputs": [],
   "source": [
    "topic_name = 'video_stream2'"
   ]
  },
  {
   "cell_type": "code",
   "execution_count": 4,
   "metadata": {},
   "outputs": [
    {
     "name": "stdout",
     "output_type": "stream",
     "text": [
      "Error: No such container: dataflow_kafka_1\r\n"
     ]
    }
   ],
   "source": [
    "# create topic in kafka\n",
    "!docker exec -it dataflow_kafka_1 bash -c 'kafka-topics --create --topic video_stream2 --zookeeper localhost:2181 --partitions 1 --replication-factor 1'"
   ]
  },
  {
   "cell_type": "code",
   "execution_count": 5,
   "metadata": {},
   "outputs": [
    {
     "ename": "FileNotFoundError",
     "evalue": "[Errno 2] No such file or directory: 'schema/ValueSchema.avsc'",
     "output_type": "error",
     "traceback": [
      "\u001b[0;31m-----------------------------------------------------------\u001b[0m",
      "\u001b[0;31mFileNotFoundError\u001b[0m         Traceback (most recent call last)",
      "\u001b[0;32m<ipython-input-5-9d0fc46f5e66>\u001b[0m in \u001b[0;36m<module>\u001b[0;34m()\u001b[0m\n\u001b[0;32m----> 1\u001b[0;31m \u001b[0mvalue_schema\u001b[0m \u001b[0;34m=\u001b[0m \u001b[0mavro\u001b[0m\u001b[0;34m.\u001b[0m\u001b[0mload\u001b[0m\u001b[0;34m(\u001b[0m\u001b[0;34m'schema/ValueSchema.avsc'\u001b[0m\u001b[0;34m)\u001b[0m\u001b[0;34m\u001b[0m\u001b[0;34m\u001b[0m\u001b[0m\n\u001b[0m\u001b[1;32m      2\u001b[0m \u001b[0mkey_schema\u001b[0m \u001b[0;34m=\u001b[0m \u001b[0mavro\u001b[0m\u001b[0;34m.\u001b[0m\u001b[0mload\u001b[0m\u001b[0;34m(\u001b[0m\u001b[0;34m'schema/KeySchema.avsc'\u001b[0m\u001b[0;34m)\u001b[0m\u001b[0;34m\u001b[0m\u001b[0;34m\u001b[0m\u001b[0m\n",
      "\u001b[0;32m/home/ruud/.local/lib/python3.7/site-packages/confluent_kafka/avro/load.py\u001b[0m in \u001b[0;36mload\u001b[0;34m(fp)\u001b[0m\n\u001b[1;32m     34\u001b[0m \u001b[0;32mdef\u001b[0m \u001b[0mload\u001b[0m\u001b[0;34m(\u001b[0m\u001b[0mfp\u001b[0m\u001b[0;34m)\u001b[0m\u001b[0;34m:\u001b[0m\u001b[0;34m\u001b[0m\u001b[0;34m\u001b[0m\u001b[0m\n\u001b[1;32m     35\u001b[0m     \u001b[0;34m\"\"\" Parse a schema from a file path \"\"\"\u001b[0m\u001b[0;34m\u001b[0m\u001b[0;34m\u001b[0m\u001b[0m\n\u001b[0;32m---> 36\u001b[0;31m     \u001b[0;32mwith\u001b[0m \u001b[0mopen\u001b[0m\u001b[0;34m(\u001b[0m\u001b[0mfp\u001b[0m\u001b[0;34m)\u001b[0m \u001b[0;32mas\u001b[0m \u001b[0mf\u001b[0m\u001b[0;34m:\u001b[0m\u001b[0;34m\u001b[0m\u001b[0;34m\u001b[0m\u001b[0m\n\u001b[0m\u001b[1;32m     37\u001b[0m         \u001b[0;32mreturn\u001b[0m \u001b[0mloads\u001b[0m\u001b[0;34m(\u001b[0m\u001b[0mf\u001b[0m\u001b[0;34m.\u001b[0m\u001b[0mread\u001b[0m\u001b[0;34m(\u001b[0m\u001b[0;34m)\u001b[0m\u001b[0;34m)\u001b[0m\u001b[0;34m\u001b[0m\u001b[0;34m\u001b[0m\u001b[0m\n\u001b[1;32m     38\u001b[0m \u001b[0;34m\u001b[0m\u001b[0m\n",
      "\u001b[0;31mFileNotFoundError\u001b[0m: [Errno 2] No such file or directory: 'schema/ValueSchema.avsc'"
     ]
    }
   ],
   "source": [
    "value_schema = avro.load('schema/ValueSchema.avsc')\n",
    "key_schema = avro.load('schema/KeySchema.avsc')"
   ]
  },
  {
   "cell_type": "code",
   "execution_count": 6,
   "metadata": {},
   "outputs": [],
   "source": [
    "avroProducer = AvroProducer(\n",
    "    {'bootstrap.servers': 'localhost:9092', 'schema.registry.url': 'http://127.0.0.1:8081'}, \n",
    "    default_key_schema=key_schema, default_value_schema=value_schema\n",
    ")"
   ]
  },
  {
   "cell_type": "code",
   "execution_count": 7,
   "metadata": {},
   "outputs": [],
   "source": [
    "def getM3U8_1(json_obj):\n",
    "    return json.loads(json_obj).get(\"text\"), json.loads(json_obj).get(\"video\").get(\"video_url\")"
   ]
  },
  {
   "cell_type": "code",
   "execution_count": 8,
   "metadata": {},
   "outputs": [],
   "source": [
    "def getM3U8_2():\n",
    "    f = open(\"m3u8_temp.txt\", \"r\")\n",
    "    allM3U8 = []\n",
    "    for line in f:\n",
    "        regex = re.compile(r'^(?:http|ftp)s?://', re.IGNORECASE)\n",
    "        if(re.match(regex, line)):\n",
    "            allM3U8.append(line.rstrip(\"\\n\"))\n",
    "    return allM3U8"
   ]
  },
  {
   "cell_type": "code",
   "execution_count": 9,
   "metadata": {},
   "outputs": [],
   "source": [
    "def getTS():\n",
    "    f = open(\"ts_temp.txt\", \"r\")\n",
    "    allTS = []\n",
    "    for line in f:\n",
    "        regex = re.compile(r'(?:[!#])s?', re.IGNORECASE)\n",
    "        if(re.match(regex, line)):\n",
    "            continue\n",
    "        else:\n",
    "            allTS.append(line.rstrip(\"\\n\"))\n",
    "            \n",
    "\n",
    "    return allTS"
   ]
  },
  {
   "cell_type": "code",
   "execution_count": 10,
   "metadata": {},
   "outputs": [],
   "source": [
    "def getBaseURL():\n",
    "    f = open(\"m3u8_temp.txt\", \"r\")\n",
    "    allM3U8 = []\n",
    "    for line in f:\n",
    "        regex = re.compile(r'^(?:http|ftp)s?://', re.IGNORECASE)\n",
    "        if(re.match(regex, line)):\n",
    "            \n",
    "            url = line.split(\"/videos/\")[0]\n",
    "            url+=\"/videos/\"\n",
    "            \n",
    "            return url"
   ]
  },
  {
   "cell_type": "code",
   "execution_count": 11,
   "metadata": {},
   "outputs": [],
   "source": [
    "\n",
    "def delivery_report(err, msg):\n",
    "    \"\"\" Called once for each message produced to indicate delivery result.\n",
    "        Triggered by poll() or flush(). \"\"\"\n",
    "    if err is not None:\n",
    "        print('Message delivery failed: {}'.format(err))\n",
    "    else:\n",
    "        print('Message delivered to {} [{}]'.format(msg.topic(), msg.partition()))"
   ]
  },
  {
   "cell_type": "code",
   "execution_count": 14,
   "metadata": {},
   "outputs": [],
   "source": [
    "page = requests.get(url)\n",
    "soup = BeautifulSoup(page.text, 'html.parser')\n",
    "for component in soup.findAll('div', class_='component_container video'):\n",
    "    video_array=[]\n",
    "    \n",
    "    title, link = getM3U8_1(component['data-context'])\n",
    "    \n",
    "    myfile = requests.get(link)\n",
    "    open('./m3u8_temp.txt', 'wb').write(myfile.content)\n",
    "    m3u8_files = getM3U8_2()\n",
    "    url_base = getBaseURL()\n",
    "    for m3u8_2_link in m3u8_files:\n",
    "\n",
    "        myfile = requests.get(m3u8_2_link)\n",
    "        open('./ts_temp.txt', 'wb').write(myfile.content)\n",
    "        array = getTS()\n",
    "        video_array.append(array)\n",
    "        \n",
    "    \n",
    "    x=0\n",
    "    for items in video_array:\n",
    "        y=0\n",
    "        for item in items:\n",
    "            ts_file = requests.get(url_base + item)\n",
    "            open('./videos/'+item, 'wb').write(ts_file.content)\n",
    "            key = {\"m3u8_id\": str(x), \"ts_id\": str(y), \"title\": title}            \n",
    "            value = {\"content\": ts_file.content.hex()[:10000]}\n",
    "            # avroProducer.produce(topic=topic_name, value=value, key=key)\n",
    "            # avroProducer.flush()\n",
    "\n",
    "\n",
    "            y+=1\n",
    "        x+=1\n",
    "    "
   ]
  }
 ],
 "metadata": {
  "kernelspec": {
   "display_name": "Python 3",
   "language": "python",
   "name": "python3"
  },
  "language_info": {
   "codemirror_mode": {
    "name": "ipython",
    "version": 3
   },
   "file_extension": ".py",
   "mimetype": "text/x-python",
   "name": "python",
   "nbconvert_exporter": "python",
   "pygments_lexer": "ipython3",
   "version": "3.7.5"
  }
 },
 "nbformat": 4,
 "nbformat_minor": 2
}
